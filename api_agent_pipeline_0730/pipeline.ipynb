{
 "cells": [
  {
   "cell_type": "code",
   "execution_count": 11,
   "id": "92ab95a0-b96b-4227-b01b-21fe15dba510",
   "metadata": {},
   "outputs": [],
   "source": [
    "# Step1：使用Reranker模型（Top 15）及LLM表征（Top 5），召回候选标准名\n",
    "# 1）构造训练数据\n",
    "# 2）训练LLM表征模型\n",
    "# 3）推理得到LLM表征的Top 5 候选标准名\n",
    "# 4）与Reranker的Top15 keywords去重后混合，得到train、dev、test的分别的Top 20 候选标准名\n",
    "\n",
    "!cd step1;sh pipeline.sh\n",
    "\n"
   ]
  },
  {
   "cell_type": "code",
   "execution_count": 5,
   "id": "858b8365-341e-4c6d-b2ef-a594aeb757fb",
   "metadata": {},
   "outputs": [],
   "source": [
    "# Step2：使用Reranker模型召回Top 20 API（验证集准确率>99.6%）\n",
    "\n",
    "!cd step2;sh pipeline.sh"
   ]
  },
  {
   "cell_type": "code",
   "execution_count": null,
   "id": "f3c2d33b-8dc1-47a9-8c8d-ab5d707ec05c",
   "metadata": {},
   "outputs": [],
   "source": [
    "# Step 3：一、生成最终选择的标准名；二、生成最终选择的api\n",
    "# 一、标准名选择：\n",
    "# 目的：从Step1 中的Top20 候选标准名中选取最终的标准名，可能是0个、1个或多个\n",
    "# 步骤：\n",
    "# 1） 训练：\n",
    "# 2）推理：\n",
    "\n",
    "# 二、api选择：\n",
    "# 目的：从Step2的api中选择最终需要的api，并将其根据最终执行顺序进行排序\n",
    "# 步骤：\n",
    "# 1） 训练：\n",
    "# 2）推理：\n",
    "!cd step3;sh pipeline.sh"
   ]
  },
  {
   "cell_type": "code",
   "execution_count": null,
   "id": "7fe31a0d-3985-4d55-b817-c7ab931537c5",
   "metadata": {},
   "outputs": [],
   "source": [
    "# Step4：生成最终结果\n",
    "# 1）得到训练数据\n",
    "# 一、结合step3的训练数据构造\n",
    "# 训练集+验证集，query数值处理\n",
    "# 根据真实query、真实标准名以及真实api（非step3生成），生成无噪声训练集\n",
    "# 噪声数据生成（step3 模型beam search得到api的噪声数据）\n",
    "# 噪声数据筛选（1、api数量多于真实api；2、api数量等于真实api但乱序；3、api数量少于真实api），并按照一定比例加入训练集\n",
    "# 二、跳过step3的训练数据构造\n",
    "\n",
    "# 2）训练模型\n",
    "# 使用LLAMA-FACTORY进行Qwen2、GLM4的多模型全参数训练\n",
    "# 训练前，将step3中选择api的lora参数加入权重\n",
    "\n",
    "# 3）推理\n",
    "# 构造推理数据（query数值处理、prompt拼接等）\n",
    "# 推理\n",
    "\n",
    "# 4）多模型投票\n",
    "\n",
    "\n",
    "#5）后处理\n",
    "\n",
    "#6）对于query在训练集或验证集中出现过的情况，结果替换为训练集或验证集中的真实标签\n",
    "!cd step4;sh pipeline.sh\n"
   ]
  }
 ],
 "metadata": {
  "kernelspec": {
   "display_name": "Python 3 (ipykernel)",
   "language": "python",
   "name": "python3"
  },
  "language_info": {
   "codemirror_mode": {
    "name": "ipython",
    "version": 3
   },
   "file_extension": ".py",
   "mimetype": "text/x-python",
   "name": "python",
   "nbconvert_exporter": "python",
   "pygments_lexer": "ipython3",
   "version": "3.11.7"
  }
 },
 "nbformat": 4,
 "nbformat_minor": 5
}
